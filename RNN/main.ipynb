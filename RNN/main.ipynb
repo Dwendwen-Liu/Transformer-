{
 "cells": [
  {
   "cell_type": "markdown",
   "metadata": {},
   "source": [
    "**注**：\n",
    "- 由于数据量太大还没对模型进行太多调参\n",
    "- 此代码在本人电脑上可以跑通，kaggle上也能跑通\n",
    "- kaggle上拥有可分享版本（调参版本），目前还未施工完成，着急的话我把它分享出来\n",
    "- 调参部分请直接在本文档搜索关键词：<span style=\"background-color:yellow\">参数\n",
    "- <span style=\"color:red\">使用前请先在终端中输入：</span><span style=\"color:yellow\">```pip install -r requirements.txt```</span><span style=\"color:red\">以确保环境正确</span>"
   ]
  },
  {
   "cell_type": "markdown",
   "metadata": {
    "vscode": {
     "languageId": "plaintext"
    }
   },
   "source": [
    "## 1. 库导入"
   ]
  },
  {
   "cell_type": "code",
   "metadata": {
    "ExecuteTime": {
     "end_time": "2025-01-12T10:00:25.714504Z",
     "start_time": "2025-01-12T10:00:25.710519Z"
    }
   },
   "source": [
    "# 库导入\n",
    "import os\n",
    "import math\n",
    "import torch\n",
    "import random\n",
    "import warnings\n",
    "import numpy as np \n",
    "import pandas as pd\n",
    "import torch.nn as nn\n",
    "import matplotlib.pyplot as plt\n",
    "import torch.multiprocessing as mp\n",
    "from torch.autograd import Variable\n",
    "from keras.preprocessing import sequence\n",
    "from torch.utils.data import Dataset, DataLoader\n",
    "from sklearn.preprocessing import StandardScaler\n",
    "from prefetch_generator import BackgroundGenerator\n",
    "from tensorflow.keras.preprocessing.text import Tokenizer\n",
    "from sklearn.metrics import precision_score, f1_score, accuracy_score\n",
    "\n",
    "## wifi信号（x）\n",
    "## 前排提示 \n",
    "## 因为这份代码里面被本人删了又改改了又删 可能部分地方有些逻辑重复 望轻喷\n",
    "\n",
    "warnings.filterwarnings(\"ignore\")\n",
    "plt.rcParams['font.sans-serif'] = ['SimHei']\n",
    "plt.rcParams['axes.unicode_minus'] = False"
   ],
   "outputs": [],
   "execution_count": 19
  },
  {
   "cell_type": "markdown",
   "metadata": {},
   "source": [
    "## 2. 数据查看及整合后的数据处理函数"
   ]
  },
  {
   "cell_type": "markdown",
   "metadata": {},
   "source": [
    "### 2.1 数据查看及图像绘制"
   ]
  },
  {
   "cell_type": "code",
   "metadata": {
    "ExecuteTime": {
     "end_time": "2025-01-12T10:00:25.843594Z",
     "start_time": "2025-01-12T10:00:25.735588Z"
    }
   },
   "source": [
    "# 文件读取\n",
    "headers=[\"Tweet ID\",\"entity\",\"sentiment\",\"Tweet content\"]\n",
    "train_data=pd.read_csv('./archive/twitter_training.csv',header=None,names=headers)\n",
    "val_data=pd.read_csv('./archive/twitter_validation.csv',header=None,names=headers)"
   ],
   "outputs": [],
   "execution_count": 20
  },
  {
   "cell_type": "code",
   "metadata": {
    "ExecuteTime": {
     "end_time": "2025-01-12T10:00:26.537384Z",
     "start_time": "2025-01-12T10:00:26.530970Z"
    }
   },
   "source": [
    "train_data.head(100)"
   ],
   "outputs": [
    {
     "data": {
      "text/plain": [
       "    Tweet ID       entity sentiment  \\\n",
       "0       2401  Borderlands  Positive   \n",
       "1       2401  Borderlands  Positive   \n",
       "2       2401  Borderlands  Positive   \n",
       "3       2401  Borderlands  Positive   \n",
       "4       2401  Borderlands  Positive   \n",
       "..       ...          ...       ...   \n",
       "95      2416  Borderlands   Neutral   \n",
       "96      2417  Borderlands  Negative   \n",
       "97      2417  Borderlands  Negative   \n",
       "98      2417  Borderlands  Negative   \n",
       "99      2417  Borderlands  Negative   \n",
       "\n",
       "                                        Tweet content  \n",
       "0   im getting on borderlands and i will murder yo...  \n",
       "1   I am coming to the borders and I will kill you...  \n",
       "2   im getting on borderlands and i will kill you ...  \n",
       "3   im coming on borderlands and i will murder you...  \n",
       "4   im getting on borderlands 2 and i will murder ...  \n",
       "..                                                ...  \n",
       "95  I hate that this easy horrible modifier event ...  \n",
       "96  Grounded almost looked pretty cool even despit...  \n",
       "97  Grounded looked cool despite the borderline un...  \n",
       "98  Grosskreutz looked pretty cool, even despite t...  \n",
       "99  Grounded almost looked pretty cool here despit...  \n",
       "\n",
       "[100 rows x 4 columns]"
      ],
      "text/html": [
       "<div>\n",
       "<style scoped>\n",
       "    .dataframe tbody tr th:only-of-type {\n",
       "        vertical-align: middle;\n",
       "    }\n",
       "\n",
       "    .dataframe tbody tr th {\n",
       "        vertical-align: top;\n",
       "    }\n",
       "\n",
       "    .dataframe thead th {\n",
       "        text-align: right;\n",
       "    }\n",
       "</style>\n",
       "<table border=\"1\" class=\"dataframe\">\n",
       "  <thead>\n",
       "    <tr style=\"text-align: right;\">\n",
       "      <th></th>\n",
       "      <th>Tweet ID</th>\n",
       "      <th>entity</th>\n",
       "      <th>sentiment</th>\n",
       "      <th>Tweet content</th>\n",
       "    </tr>\n",
       "  </thead>\n",
       "  <tbody>\n",
       "    <tr>\n",
       "      <th>0</th>\n",
       "      <td>2401</td>\n",
       "      <td>Borderlands</td>\n",
       "      <td>Positive</td>\n",
       "      <td>im getting on borderlands and i will murder yo...</td>\n",
       "    </tr>\n",
       "    <tr>\n",
       "      <th>1</th>\n",
       "      <td>2401</td>\n",
       "      <td>Borderlands</td>\n",
       "      <td>Positive</td>\n",
       "      <td>I am coming to the borders and I will kill you...</td>\n",
       "    </tr>\n",
       "    <tr>\n",
       "      <th>2</th>\n",
       "      <td>2401</td>\n",
       "      <td>Borderlands</td>\n",
       "      <td>Positive</td>\n",
       "      <td>im getting on borderlands and i will kill you ...</td>\n",
       "    </tr>\n",
       "    <tr>\n",
       "      <th>3</th>\n",
       "      <td>2401</td>\n",
       "      <td>Borderlands</td>\n",
       "      <td>Positive</td>\n",
       "      <td>im coming on borderlands and i will murder you...</td>\n",
       "    </tr>\n",
       "    <tr>\n",
       "      <th>4</th>\n",
       "      <td>2401</td>\n",
       "      <td>Borderlands</td>\n",
       "      <td>Positive</td>\n",
       "      <td>im getting on borderlands 2 and i will murder ...</td>\n",
       "    </tr>\n",
       "    <tr>\n",
       "      <th>...</th>\n",
       "      <td>...</td>\n",
       "      <td>...</td>\n",
       "      <td>...</td>\n",
       "      <td>...</td>\n",
       "    </tr>\n",
       "    <tr>\n",
       "      <th>95</th>\n",
       "      <td>2416</td>\n",
       "      <td>Borderlands</td>\n",
       "      <td>Neutral</td>\n",
       "      <td>I hate that this easy horrible modifier event ...</td>\n",
       "    </tr>\n",
       "    <tr>\n",
       "      <th>96</th>\n",
       "      <td>2417</td>\n",
       "      <td>Borderlands</td>\n",
       "      <td>Negative</td>\n",
       "      <td>Grounded almost looked pretty cool even despit...</td>\n",
       "    </tr>\n",
       "    <tr>\n",
       "      <th>97</th>\n",
       "      <td>2417</td>\n",
       "      <td>Borderlands</td>\n",
       "      <td>Negative</td>\n",
       "      <td>Grounded looked cool despite the borderline un...</td>\n",
       "    </tr>\n",
       "    <tr>\n",
       "      <th>98</th>\n",
       "      <td>2417</td>\n",
       "      <td>Borderlands</td>\n",
       "      <td>Negative</td>\n",
       "      <td>Grosskreutz looked pretty cool, even despite t...</td>\n",
       "    </tr>\n",
       "    <tr>\n",
       "      <th>99</th>\n",
       "      <td>2417</td>\n",
       "      <td>Borderlands</td>\n",
       "      <td>Negative</td>\n",
       "      <td>Grounded almost looked pretty cool here despit...</td>\n",
       "    </tr>\n",
       "  </tbody>\n",
       "</table>\n",
       "<p>100 rows × 4 columns</p>\n",
       "</div>"
      ]
     },
     "execution_count": 21,
     "metadata": {},
     "output_type": "execute_result"
    }
   ],
   "execution_count": 21
  },
  {
   "cell_type": "code",
   "metadata": {
    "ExecuteTime": {
     "end_time": "2025-01-12T10:00:27.248784Z",
     "start_time": "2025-01-12T10:00:27.243433Z"
    }
   },
   "source": [
    "val_data.head(100)"
   ],
   "outputs": [
    {
     "data": {
      "text/plain": [
       "    Tweet ID       entity   sentiment  \\\n",
       "0       3364     Facebook  Irrelevant   \n",
       "1        352       Amazon     Neutral   \n",
       "2       8312    Microsoft    Negative   \n",
       "3       4371        CS-GO    Negative   \n",
       "4       4433       Google     Neutral   \n",
       "..       ...          ...         ...   \n",
       "95      9456    Overwatch    Negative   \n",
       "96     11687      Verizon    Negative   \n",
       "97      1589  Battlefield    Negative   \n",
       "98      3526     Facebook     Neutral   \n",
       "99      8174    Microsoft    Positive   \n",
       "\n",
       "                                        Tweet content  \n",
       "0   I mentioned on Facebook that I was struggling ...  \n",
       "1   BBC News - Amazon boss Jeff Bezos rejects clai...  \n",
       "2   @Microsoft Why do I pay for WORD when it funct...  \n",
       "3   CSGO matchmaking is so full of closet hacking,...  \n",
       "4   Now the President is slapping Americans in the...  \n",
       "..                                                ...  \n",
       "95  @BlizzardCS so when i try to buy overwatch wit...  \n",
       "96  @verizon Can you waive some data overage charg...  \n",
       "97  No one buy battlefield 3 on steam! It doesn’t ...  \n",
       "98  Our #HISAPerth #OBIawards ceremony is taking p...  \n",
       "99  #Indigo Urgent Care looks to Microsoft Teams a...  \n",
       "\n",
       "[100 rows x 4 columns]"
      ],
      "text/html": [
       "<div>\n",
       "<style scoped>\n",
       "    .dataframe tbody tr th:only-of-type {\n",
       "        vertical-align: middle;\n",
       "    }\n",
       "\n",
       "    .dataframe tbody tr th {\n",
       "        vertical-align: top;\n",
       "    }\n",
       "\n",
       "    .dataframe thead th {\n",
       "        text-align: right;\n",
       "    }\n",
       "</style>\n",
       "<table border=\"1\" class=\"dataframe\">\n",
       "  <thead>\n",
       "    <tr style=\"text-align: right;\">\n",
       "      <th></th>\n",
       "      <th>Tweet ID</th>\n",
       "      <th>entity</th>\n",
       "      <th>sentiment</th>\n",
       "      <th>Tweet content</th>\n",
       "    </tr>\n",
       "  </thead>\n",
       "  <tbody>\n",
       "    <tr>\n",
       "      <th>0</th>\n",
       "      <td>3364</td>\n",
       "      <td>Facebook</td>\n",
       "      <td>Irrelevant</td>\n",
       "      <td>I mentioned on Facebook that I was struggling ...</td>\n",
       "    </tr>\n",
       "    <tr>\n",
       "      <th>1</th>\n",
       "      <td>352</td>\n",
       "      <td>Amazon</td>\n",
       "      <td>Neutral</td>\n",
       "      <td>BBC News - Amazon boss Jeff Bezos rejects clai...</td>\n",
       "    </tr>\n",
       "    <tr>\n",
       "      <th>2</th>\n",
       "      <td>8312</td>\n",
       "      <td>Microsoft</td>\n",
       "      <td>Negative</td>\n",
       "      <td>@Microsoft Why do I pay for WORD when it funct...</td>\n",
       "    </tr>\n",
       "    <tr>\n",
       "      <th>3</th>\n",
       "      <td>4371</td>\n",
       "      <td>CS-GO</td>\n",
       "      <td>Negative</td>\n",
       "      <td>CSGO matchmaking is so full of closet hacking,...</td>\n",
       "    </tr>\n",
       "    <tr>\n",
       "      <th>4</th>\n",
       "      <td>4433</td>\n",
       "      <td>Google</td>\n",
       "      <td>Neutral</td>\n",
       "      <td>Now the President is slapping Americans in the...</td>\n",
       "    </tr>\n",
       "    <tr>\n",
       "      <th>...</th>\n",
       "      <td>...</td>\n",
       "      <td>...</td>\n",
       "      <td>...</td>\n",
       "      <td>...</td>\n",
       "    </tr>\n",
       "    <tr>\n",
       "      <th>95</th>\n",
       "      <td>9456</td>\n",
       "      <td>Overwatch</td>\n",
       "      <td>Negative</td>\n",
       "      <td>@BlizzardCS so when i try to buy overwatch wit...</td>\n",
       "    </tr>\n",
       "    <tr>\n",
       "      <th>96</th>\n",
       "      <td>11687</td>\n",
       "      <td>Verizon</td>\n",
       "      <td>Negative</td>\n",
       "      <td>@verizon Can you waive some data overage charg...</td>\n",
       "    </tr>\n",
       "    <tr>\n",
       "      <th>97</th>\n",
       "      <td>1589</td>\n",
       "      <td>Battlefield</td>\n",
       "      <td>Negative</td>\n",
       "      <td>No one buy battlefield 3 on steam! It doesn’t ...</td>\n",
       "    </tr>\n",
       "    <tr>\n",
       "      <th>98</th>\n",
       "      <td>3526</td>\n",
       "      <td>Facebook</td>\n",
       "      <td>Neutral</td>\n",
       "      <td>Our #HISAPerth #OBIawards ceremony is taking p...</td>\n",
       "    </tr>\n",
       "    <tr>\n",
       "      <th>99</th>\n",
       "      <td>8174</td>\n",
       "      <td>Microsoft</td>\n",
       "      <td>Positive</td>\n",
       "      <td>#Indigo Urgent Care looks to Microsoft Teams a...</td>\n",
       "    </tr>\n",
       "  </tbody>\n",
       "</table>\n",
       "<p>100 rows × 4 columns</p>\n",
       "</div>"
      ]
     },
     "execution_count": 22,
     "metadata": {},
     "output_type": "execute_result"
    }
   ],
   "execution_count": 22
  },
  {
   "cell_type": "code",
   "metadata": {
    "ExecuteTime": {
     "end_time": "2025-01-12T10:00:27.329358Z",
     "start_time": "2025-01-12T10:00:27.315649Z"
    }
   },
   "source": [
    "## 查看标签数值化后的数据\n",
    "\n",
    "# 提取出需要的部分\n",
    "new_train_data = train_data.loc[:,['sentiment','Tweet content']].astype(str)\n",
    "new_val_data = val_data.loc[:,['sentiment','Tweet content']].astype(str)\n",
    "\n",
    "# 标签数值化\n",
    "y_train,unique=pd.factorize(new_train_data['sentiment'])\n",
    "new_train_data['sentiment']=y_train\n",
    "y_val,unique=pd.factorize(new_val_data['sentiment'])\n",
    "new_val_data['sentiment']=y_val\n",
    "\n",
    "# 查看数据\n",
    "new_train_data.head(100)"
   ],
   "outputs": [
    {
     "data": {
      "text/plain": [
       "    sentiment                                      Tweet content\n",
       "0           0  im getting on borderlands and i will murder yo...\n",
       "1           0  I am coming to the borders and I will kill you...\n",
       "2           0  im getting on borderlands and i will kill you ...\n",
       "3           0  im coming on borderlands and i will murder you...\n",
       "4           0  im getting on borderlands 2 and i will murder ...\n",
       "..        ...                                                ...\n",
       "95          1  I hate that this easy horrible modifier event ...\n",
       "96          2  Grounded almost looked pretty cool even despit...\n",
       "97          2  Grounded looked cool despite the borderline un...\n",
       "98          2  Grosskreutz looked pretty cool, even despite t...\n",
       "99          2  Grounded almost looked pretty cool here despit...\n",
       "\n",
       "[100 rows x 2 columns]"
      ],
      "text/html": [
       "<div>\n",
       "<style scoped>\n",
       "    .dataframe tbody tr th:only-of-type {\n",
       "        vertical-align: middle;\n",
       "    }\n",
       "\n",
       "    .dataframe tbody tr th {\n",
       "        vertical-align: top;\n",
       "    }\n",
       "\n",
       "    .dataframe thead th {\n",
       "        text-align: right;\n",
       "    }\n",
       "</style>\n",
       "<table border=\"1\" class=\"dataframe\">\n",
       "  <thead>\n",
       "    <tr style=\"text-align: right;\">\n",
       "      <th></th>\n",
       "      <th>sentiment</th>\n",
       "      <th>Tweet content</th>\n",
       "    </tr>\n",
       "  </thead>\n",
       "  <tbody>\n",
       "    <tr>\n",
       "      <th>0</th>\n",
       "      <td>0</td>\n",
       "      <td>im getting on borderlands and i will murder yo...</td>\n",
       "    </tr>\n",
       "    <tr>\n",
       "      <th>1</th>\n",
       "      <td>0</td>\n",
       "      <td>I am coming to the borders and I will kill you...</td>\n",
       "    </tr>\n",
       "    <tr>\n",
       "      <th>2</th>\n",
       "      <td>0</td>\n",
       "      <td>im getting on borderlands and i will kill you ...</td>\n",
       "    </tr>\n",
       "    <tr>\n",
       "      <th>3</th>\n",
       "      <td>0</td>\n",
       "      <td>im coming on borderlands and i will murder you...</td>\n",
       "    </tr>\n",
       "    <tr>\n",
       "      <th>4</th>\n",
       "      <td>0</td>\n",
       "      <td>im getting on borderlands 2 and i will murder ...</td>\n",
       "    </tr>\n",
       "    <tr>\n",
       "      <th>...</th>\n",
       "      <td>...</td>\n",
       "      <td>...</td>\n",
       "    </tr>\n",
       "    <tr>\n",
       "      <th>95</th>\n",
       "      <td>1</td>\n",
       "      <td>I hate that this easy horrible modifier event ...</td>\n",
       "    </tr>\n",
       "    <tr>\n",
       "      <th>96</th>\n",
       "      <td>2</td>\n",
       "      <td>Grounded almost looked pretty cool even despit...</td>\n",
       "    </tr>\n",
       "    <tr>\n",
       "      <th>97</th>\n",
       "      <td>2</td>\n",
       "      <td>Grounded looked cool despite the borderline un...</td>\n",
       "    </tr>\n",
       "    <tr>\n",
       "      <th>98</th>\n",
       "      <td>2</td>\n",
       "      <td>Grosskreutz looked pretty cool, even despite t...</td>\n",
       "    </tr>\n",
       "    <tr>\n",
       "      <th>99</th>\n",
       "      <td>2</td>\n",
       "      <td>Grounded almost looked pretty cool here despit...</td>\n",
       "    </tr>\n",
       "  </tbody>\n",
       "</table>\n",
       "<p>100 rows × 2 columns</p>\n",
       "</div>"
      ]
     },
     "execution_count": 23,
     "metadata": {},
     "output_type": "execute_result"
    }
   ],
   "execution_count": 23
  },
  {
   "cell_type": "code",
   "metadata": {
    "ExecuteTime": {
     "end_time": "2025-01-12T10:00:28.535705Z",
     "start_time": "2025-01-12T10:00:27.418362Z"
    }
   },
   "source": [
    "# 分词\n",
    "tok=Tokenizer(num_words=100000)\n",
    "tok.fit_on_texts(new_train_data['Tweet content'])\n",
    "for i in range(10): print(f\"{i+1}:{list(tok.word_index.keys())[i]}\")"
   ],
   "outputs": [
    {
     "name": "stdout",
     "output_type": "stream",
     "text": [
      "1:the\n",
      "2:i\n",
      "3:to\n",
      "4:and\n",
      "5:a\n",
      "6:of\n",
      "7:is\n",
      "8:in\n",
      "9:for\n",
      "10:this\n"
     ]
    }
   ],
   "execution_count": 24
  },
  {
   "cell_type": "code",
   "metadata": {
    "ExecuteTime": {
     "end_time": "2025-01-12T10:00:29.394030Z",
     "start_time": "2025-01-12T10:00:28.554678Z"
    }
   },
   "source": [
    "# 长度分布查看\n",
    "x_train=tok.texts_to_sequences(new_train_data['Tweet content'].to_numpy())\n",
    "len_ser=pd.Series([len(i) for i in x_train])\n",
    "plt.plot(len_ser.value_counts().sort_index())\n",
    "plt.xlabel('序列长度')\n",
    "plt.ylabel('序列数量')\n",
    "plt.title('序列长度分布')\n",
    "plt.show()\n",
    "\n",
    "# 查看情感类型分布\n",
    "new_train_data['sentiment'].value_counts().plot(kind='bar')\n",
    "plt.xticks(rotation=0)\n",
    "plt.title('训练集标签分布')\n",
    "plt.xlabel('标签')\n",
    "plt.ylabel('数量')\n",
    "plt.show()\n"
   ],
   "outputs": [
    {
     "data": {
      "text/plain": [
       "<Figure size 640x480 with 1 Axes>"
      ],
      "image/png": "[encoded data removed]"
     },
     "metadata": {},
     "output_type": "display_data"
    },
    {
     "data": {
      "text/plain": [
       "<Figure size 640x480 with 1 Axes>"
      ],
      "image/png": "[encoded data removed]"
     },
     "metadata": {},
     "output_type": "display_data"
    }
   ],
   "execution_count": 25
  },
  {
   "cell_type": "markdown",
   "metadata": {},
   "source": [
    "### 2.2 整合后的数据导入及处理函数"
   ]
  },
  {
   "cell_type": "code",
   "metadata": {
    "ExecuteTime": {
     "end_time": "2025-01-12T10:00:29.410740Z",
     "start_time": "2025-01-12T10:00:29.405105Z"
    }
   },
   "source": [
    "def load_data(device=\"cuda:0\" if torch.cuda.is_available() else \"cpu\"):\n",
    "    # 导入\n",
    "    headers=[\"Tweet ID\",\"entity\",\"sentiment\",\"Tweet content\"]\n",
    "    train_data=pd.read_csv('./archive/twitter_training.csv',header=None,names=headers)\n",
    "    test_data=pd.read_csv('./archive/twitter_validation.csv',header=None,names=headers)\n",
    "\n",
    "    # 取出有用部分\n",
    "    new_train_data = train_data.loc[:,['sentiment','Tweet content']].astype(str)\n",
    "    new_test_data = test_data.loc[:,['sentiment','Tweet content']].astype(str)\n",
    "\n",
    "    # 标签数值化\n",
    "    y_train,unique=pd.factorize(new_train_data['sentiment'])\n",
    "    # y_train=y_train.to_numpy()\n",
    "    y_test,unique=pd.factorize(new_test_data['sentiment'])\n",
    "    # y_test=y_test.to_numpy()\n",
    "\n",
    "    # 分词\n",
    "    tok=Tokenizer(num_words=100000)\n",
    "    tok.fit_on_texts(new_train_data['Tweet content'])\n",
    "\n",
    "    x_train=tok.texts_to_sequences(new_train_data['Tweet content'].to_numpy())\n",
    "    x_train = sequence.pad_sequences(x_train, maxlen=100)\n",
    "    \n",
    "    x_test=tok.texts_to_sequences(new_test_data['Tweet content'].to_numpy())\n",
    "    x_test = sequence.pad_sequences(x_test, maxlen=100)\n",
    "\n",
    "    # 转换为 tensor(为了防止后面梯度爆炸这里对数据进行了归一化)\n",
    "    x_train = torch.tensor(x_train, dtype=torch.long, device=device)\n",
    "    y_train = torch.tensor(y_train, dtype=torch.float32, device=device).view(-1,1)\n",
    "    x_test = torch.tensor(x_test, dtype=torch.long, device=device)\n",
    "    y_test = torch.tensor(y_test, dtype=torch.float32, device=device).view(-1,1)\n",
    "    # scaler=StandardScaler()\n",
    "    # x_train=torch.tensor(scaler.fit_transform(x_train), dtype=torch.float32, device=device)\n",
    "    # x_test=torch.tensor(scaler.fit_transform(x_test), dtype=torch.float32, device=device)\n",
    "    \n",
    "    # 查看数据集大小\n",
    "    print(f'训练集大小: {len(train_data)}')\n",
    "    print(f'测试集大小: {len(test_data)}')\n",
    "    \n",
    "    return x_train,y_train,x_test,y_test,tok\n",
    "\n",
    "# 数据集\n",
    "class TwitterDataset(Dataset):\n",
    "    def __init__(self,data,labels):\n",
    "        self.data = data\n",
    "        self.labels=labels\n",
    "\n",
    "    def __len__(self):\n",
    "        return len(self.data)\n",
    "\n",
    "    def __getitem__(self,idx):\n",
    "        return self.data[idx], self.labels[idx]\n",
    "\n",
    "class TwitterDataLoader(DataLoader):\n",
    "    def __iter__(self):\n",
    "        return BackgroundGenerator(super().__iter__(), max_prefetch=32)"
   ],
   "outputs": [],
   "execution_count": 26
  },
  {
   "cell_type": "markdown",
   "metadata": {},
   "source": "## 3.Embedding部分"
  },
  {
   "cell_type": "code",
   "metadata": {
    "ExecuteTime": {
     "end_time": "2025-01-12T10:00:30.556822Z",
     "start_time": "2025-01-12T10:00:30.553891Z"
    }
   },
   "source": [
    "# Embedding部分 \n",
    "class InputEmbeddings(nn.Module):\n",
    "    def __init__(self, vocab_size, embedding_dim):\n",
    "        super(InputEmbeddings, self).__init__()\n",
    "        self.embedding_dim = embedding_dim\n",
    "        self.embed = nn.Embedding(vocab_size, embedding_dim)\n",
    "        \n",
    "    def forward(self, x):\n",
    "        return self.embed(x) * math.sqrt(self.embedding_dim)"
   ],
   "outputs": [],
   "execution_count": 27
  },
  {
   "metadata": {},
   "cell_type": "markdown",
   "source": "## 4.RNN代码"
  },
  {
   "metadata": {
    "ExecuteTime": {
     "end_time": "2025-01-12T10:00:31.579375Z",
     "start_time": "2025-01-12T10:00:31.574501Z"
    }
   },
   "cell_type": "code",
   "source": [
    "## LSTM单元\n",
    "class CustomLSTMCell(nn.Module):\n",
    "    def __init__(self, input_size, hidden_size):\n",
    "        super(CustomLSTMCell, self).__init__()\n",
    "        self.input_size = input_size\n",
    "        self.hidden_size = hidden_size\n",
    "\n",
    "        # 定义权重矩阵\n",
    "        self.W_i = nn.Linear(input_size + hidden_size, hidden_size)\n",
    "        self.W_f = nn.Linear(input_size + hidden_size, hidden_size)\n",
    "        self.W_c = nn.Linear(input_size + hidden_size, hidden_size)\n",
    "        self.W_o = nn.Linear(input_size + hidden_size, hidden_size)\n",
    "\n",
    "    def forward(self, x, hidden):\n",
    "        h_prev, c_prev = hidden\n",
    "\n",
    "        combined = torch.cat((x, h_prev), dim=1)\n",
    "\n",
    "        i = torch.sigmoid(self.W_i(combined))\n",
    "        f = torch.sigmoid(self.W_f(combined))\n",
    "        g = torch.tanh(self.W_c(combined))\n",
    "        o = torch.sigmoid(self.W_o(combined))\n",
    "\n",
    "        c_next = f * c_prev + i * g\n",
    "        h_next = o * torch.tanh(c_next)\n",
    "\n",
    "        return h_next, c_next\n",
    "    "
   ],
   "outputs": [],
   "execution_count": 28
  },
  {
   "metadata": {
    "ExecuteTime": {
     "end_time": "2025-01-12T10:00:32.623779Z",
     "start_time": "2025-01-12T10:00:32.619624Z"
    }
   },
   "cell_type": "code",
   "source": [
    "##LSTM代码\n",
    "class CustomLSTM(nn.Module):\n",
    "    def __init__(self, input_size, hidden_size, num_layers, dropout=0.2):\n",
    "        super(CustomLSTM, self).__init__()\n",
    "        self.hidden_size = hidden_size\n",
    "        self.num_layers = num_layers\n",
    "        self.cells = nn.ModuleList([CustomLSTMCell(input_size if i == 0 else hidden_size, hidden_size) for i in range(num_layers)])\n",
    "        self.dropout = nn.Dropout(dropout)\n",
    "\n",
    "    def forward(self, x):\n",
    "        batch_size, seq_len, _ = x.size()\n",
    "        h = [torch.zeros(batch_size, self.hidden_size, device=x.device) for _ in range(self.num_layers)]\n",
    "        c = [torch.zeros(batch_size, self.hidden_size, device=x.device) for _ in range(self.num_layers)]\n",
    "\n",
    "        outputs = []\n",
    "        for t in range(seq_len):\n",
    "            x_t = x[:, t, :]\n",
    "            for i, cell in enumerate(self.cells):\n",
    "                h[i], c[i] = cell(x_t, (h[i], c[i]))\n",
    "                x_t = self.dropout(h[i])\n",
    "            outputs.append(h[-1])\n",
    "\n",
    "        outputs = torch.stack(outputs, dim=1)\n",
    "        return outputs, (h, c)"
   ],
   "outputs": [],
   "execution_count": 29
  },
  {
   "metadata": {
    "ExecuteTime": {
     "end_time": "2025-01-12T10:00:34.661035Z",
     "start_time": "2025-01-12T10:00:34.656562Z"
    }
   },
   "cell_type": "code",
   "source": [
    "##RNN代码\n",
    "class RNNModel(nn.Module):\n",
    "    def __init__(self, vocab_size, embed_size, hidden_dim, num_layers, output_dim=1, dropout=0.2):\n",
    "        super(RNNModel, self).__init__()\n",
    "        \n",
    "        self.embedding =InputEmbeddings(vocab_size, embed_size)\n",
    "        self.rnn = CustomLSTM(input_size=embed_size, hidden_size=hidden_dim, num_layers=num_layers, dropout=dropout)\n",
    "\n",
    "        # 全连接层\n",
    "        self.fc = nn.Linear(hidden_dim, output_dim)\n",
    "        self.dropout = nn.Dropout(dropout)\n",
    "\n",
    "    def forward(self, src):\n",
    "        embedded = self.embedding(src)\n",
    "        embedded = self.dropout(embedded)\n",
    "\n",
    "        output, (hidden, cell) = self.rnn(embedded)\n",
    "\n",
    "        # 使用最后一个隐藏状态\n",
    "        final_output = self.fc(hidden[-1])\n",
    "\n",
    "        return final_output.squeeze(1)"
   ],
   "outputs": [],
   "execution_count": 30
  },
  {
   "cell_type": "code",
   "metadata": {
    "ExecuteTime": {
     "end_time": "2025-01-12T10:00:34.669885Z",
     "start_time": "2025-01-12T10:00:34.664115Z"
    }
   },
   "source": [
    "# 训练函数\n",
    "def train_model(model,x,y,optimizer,criterion,batch_size=64,epoches=200,mask=None):\n",
    "\n",
    "    model.train()\n",
    "    loss_list=[]\n",
    "    acc_list=[]\n",
    "    dataset=TwitterDataset(x,y)\n",
    "    train_loader=TwitterDataLoader(dataset,batch_size=batch_size,shuffle=True)\n",
    "\n",
    "    for epoch in range(epoches):\n",
    "        loss_epoch=0\n",
    "        # correct=0\n",
    "        # total=0\n",
    "        for data,label in train_loader:\n",
    "            optimizer.zero_grad()\n",
    "            output = model(data)\n",
    "            label=label.squeeze(1)\n",
    "            loss = criterion(output,label)\n",
    "            \n",
    "            loss.backward()\n",
    "            optimizer.step()\n",
    "            loss_epoch+=loss.item()\n",
    "            acc_epoch = accuracy_score(label.detach().cpu().numpy(), torch.round(torch.sigmoid(output)).detach().cpu().numpy())\n",
    "            \n",
    "        print(f\"Epoch {epoch+1} Loss: {loss_epoch/len(train_loader)} Accuracy: {acc_epoch}\")\n",
    "        loss_list.append(loss_epoch/len(train_loader))\n",
    "        acc_list.append(acc_epoch)\n",
    "        \n",
    "        if (epoch%10==0)and epoch!=0: print(f'Epoch {epoch+1} Mean Loss: {np.mean(loss_list[epoch-10:epoch])} Mean Acurracy: {np.mean(acc_list[epoch-10:epoch])}')\n",
    "\n",
    "    return loss_list,acc_list\n",
    "\n",
    "# 评估函数\n",
    "def eval_model(model,x,y,batch_size=64):\n",
    "    model.eval()\n",
    "\n",
    "    total=0\n",
    "    correct=0\n",
    "    dataset=TwitterDataset(x,y)\n",
    "    train_loader=TwitterDataLoader(dataset,batch_size=batch_size,shuffle=True)\n",
    "\n",
    "    with torch.no_grad():\n",
    "        for data,label in train_loader:\n",
    "            output = model(data)\n",
    "            predictions = torch.round(torch.sigmoid(output))\n",
    "            correct += (torch.round(torch.sigmoid(output)).squeeze() == label).sum().item()\n",
    "            total+=label.size(0)\n",
    "\n",
    "    output = model(x)\n",
    "    label=y.squeeze(1).detach().cpu().numpy()\n",
    "    pred = torch.round(torch.sigmoid(output)).detach().cpu().numpy()\n",
    "\n",
    "    # 评价指标计算\n",
    "    acc=accuracy_score(label,pred)\n",
    "    pre=precision_score(label,pred,average='weighted')\n",
    "    f1=f1_score(label,pred,average='weighted')\n",
    "\n",
    "    print(f\"Test Dataset Performance:\\nAccuracy : {acc:.4f}\\nPrecision : {pre:.4f}\\nF1 Score : {f1:.4f}\")\n",
    "    return acc,pre,f1"
   ],
   "outputs": [],
   "execution_count": 31
  },
  {
   "cell_type": "markdown",
   "metadata": {},
   "source": [
    "**可调参数如下:** </br>\n",
    "|参数|说明|\n",
    "|----|----|\n",
    "|seed|随机种子|\n",
    "|batch_size|batch大小|\n",
    "|n_heads|多头注意力机制的头数|\n",
    "|embedding_dim|词嵌入维度|\n",
    "|learning_rate|学习率|\n",
    "|hidden_dim|全连接层的隐藏层维度|\n",
    "|num_layers|encoder的层数|\n",
    "|dropout|dropout概率|\n",
    "|epoches|训练轮数|\n",
    "\n",
    "建议调整:\n",
    "- batch_size\n",
    "- n_heads\n",
    "- embedding_dim\n",
    "- learning_rate\n",
    "- hidden_dim\n",
    "- learning_rate\n",
    "- num_layers<span style=\"color:red\">（强烈建议 可以加快速度）</span>"
   ]
  },
  {
   "cell_type": "code",
   "metadata": {
    "ExecuteTime": {
     "end_time": "2025-01-12T10:00:37.818435Z",
     "start_time": "2025-01-12T10:00:35.658364Z"
    }
   },
   "source": [
    "# 参数及相关设置\n",
    "seed = 2025\n",
    "batch_size = 64\n",
    "embedding_dim = 100\n",
    "hidden_dim = 128\n",
    "learning_rate = 1e-3\n",
    "num_layers = 3\n",
    "drop_out = 0.2\n",
    "epoches = 50\n",
    "\n",
    "# 随机种子设置\n",
    "torch.manual_seed(seed)\n",
    "random.seed(seed)\n",
    "np.random.seed(seed)\n",
    "\n",
    "# 数据加载与设备设置\n",
    "device = torch.device(\"cuda:0\" if torch.cuda.is_available() else \"cpu\")\n",
    "x_train, y_train, x_test, y_test, tok = load_data(device=device)\n",
    "\n",
    "vocab_size = len(tok.word_index) + 1\n",
    "\n",
    "# 模型定义\n",
    "model = RNNModel(vocab_size=vocab_size, \n",
    "                 embed_size=embedding_dim, \n",
    "                 hidden_dim=hidden_dim, \n",
    "                 num_layers=num_layers, \n",
    "                 dropout=drop_out)\n",
    "\n",
    "if torch.cuda.device_count() > 1:\n",
    "    print(f\"正在使用 {torch.cuda.device_count()} GPU进行运算\")\n",
    "    model = nn.DataParallel(model)\n",
    "elif torch.cuda.device_count() == 1: \n",
    "    print(\"使用单个GPU进行运算\")\n",
    "else: \n",
    "    print(\"使用CPU进行运算\")\n",
    "model.to(device)"
   ],
   "outputs": [
    {
     "name": "stdout",
     "output_type": "stream",
     "text": [
      "训练集大小: 74682\n",
      "测试集大小: 1000\n",
      "使用单个GPU进行运算\n"
     ]
    },
    {
     "data": {
      "text/plain": [
       "RNNModel(\n",
       "  (embedding): InputEmbeddings(\n",
       "    (embed): Embedding(33785, 100)\n",
       "  )\n",
       "  (rnn): CustomLSTM(\n",
       "    (cells): ModuleList(\n",
       "      (0): CustomLSTMCell(\n",
       "        (W_i): Linear(in_features=228, out_features=128, bias=True)\n",
       "        (W_f): Linear(in_features=228, out_features=128, bias=True)\n",
       "        (W_c): Linear(in_features=228, out_features=128, bias=True)\n",
       "        (W_o): Linear(in_features=228, out_features=128, bias=True)\n",
       "      )\n",
       "      (1-2): 2 x CustomLSTMCell(\n",
       "        (W_i): Linear(in_features=256, out_features=128, bias=True)\n",
       "        (W_f): Linear(in_features=256, out_features=128, bias=True)\n",
       "        (W_c): Linear(in_features=256, out_features=128, bias=True)\n",
       "        (W_o): Linear(in_features=256, out_features=128, bias=True)\n",
       "      )\n",
       "    )\n",
       "    (dropout): Dropout(p=0.2, inplace=False)\n",
       "  )\n",
       "  (fc): Linear(in_features=128, out_features=1, bias=True)\n",
       "  (dropout): Dropout(p=0.2, inplace=False)\n",
       ")"
      ]
     },
     "execution_count": 32,
     "metadata": {},
     "output_type": "execute_result"
    }
   ],
   "execution_count": 32
  },
  {
   "metadata": {
    "ExecuteTime": {
     "end_time": "2025-01-12T15:05:00.562353Z",
     "start_time": "2025-01-12T10:00:39.035689Z"
    }
   },
   "cell_type": "code",
   "source": [
    "optimizer=torch.optim.Adam(model.parameters(),lr=learning_rate)\n",
    "criterion=nn.CrossEntropyLoss()\n",
    "loss_list, acc_list=train_model(model,x_train,y_train,optimizer,criterion,epoches=epoches)"
   ],
   "outputs": [
    {
     "name": "stdout",
     "output_type": "stream",
     "text": [
      "Epoch 1 Loss: 360.3583548969965 Accuracy: 0.41379310344827586\n",
      "Epoch 2 Loss: 355.7397955181053 Accuracy: 0.39655172413793105\n",
      "Epoch 3 Loss: 353.2023127930943 Accuracy: 0.3275862068965517\n",
      "Epoch 4 Loss: 351.30696192253527 Accuracy: 0.3793103448275862\n",
      "Epoch 5 Loss: 349.7729089732035 Accuracy: 0.29310344827586204\n",
      "Epoch 6 Loss: 348.73266948055993 Accuracy: 0.3448275862068966\n",
      "Epoch 7 Loss: 347.48810392378124 Accuracy: 0.3620689655172414\n",
      "Epoch 8 Loss: 346.70599455453436 Accuracy: 0.3103448275862069\n",
      "Epoch 9 Loss: 345.9793017468293 Accuracy: 0.4827586206896552\n",
      "Epoch 10 Loss: 345.11028038096816 Accuracy: 0.27586206896551724\n",
      "Epoch 11 Loss: 344.4525995851074 Accuracy: 0.3620689655172414\n",
      "Epoch 11 Mean Loss: 350.43966841906075 Mean Acurracy: 0.3586206896551724\n",
      "Epoch 12 Loss: 343.9124249455861 Accuracy: 0.3275862068965517\n",
      "Epoch 13 Loss: 343.4114631580918 Accuracy: 0.3275862068965517\n",
      "Epoch 14 Loss: 342.77107931756524 Accuracy: 0.3103448275862069\n",
      "Epoch 15 Loss: 342.28389769409495 Accuracy: 0.43103448275862066\n",
      "Epoch 16 Loss: 341.80274948996157 Accuracy: 0.4482758620689655\n",
      "Epoch 17 Loss: 341.4643045407437 Accuracy: 0.3448275862068966\n",
      "Epoch 18 Loss: 341.07928217060055 Accuracy: 0.3620689655172414\n",
      "Epoch 19 Loss: 340.7463792737162 Accuracy: 0.4482758620689655\n",
      "Epoch 20 Loss: 340.32730163992625 Accuracy: 0.3275862068965517\n",
      "Epoch 21 Loss: 340.2083790966253 Accuracy: 0.41379310344827586\n",
      "Epoch 21 Mean Loss: 342.2251481815394 Mean Acurracy: 0.36896551724137927\n",
      "Epoch 22 Loss: 339.7664700649494 Accuracy: 0.3448275862068966\n",
      "Epoch 23 Loss: 339.5018856176067 Accuracy: 0.3275862068965517\n",
      "Epoch 24 Loss: 339.31088200612464 Accuracy: 0.46551724137931033\n",
      "Epoch 25 Loss: 339.03945333158856 Accuracy: 0.3103448275862069\n",
      "Epoch 26 Loss: 338.855878501441 Accuracy: 0.41379310344827586\n",
      "Epoch 27 Loss: 338.53999101104347 Accuracy: 0.5344827586206896\n",
      "Epoch 28 Loss: 338.4280339545844 Accuracy: 0.46551724137931033\n",
      "Epoch 29 Loss: 338.27078451043843 Accuracy: 0.39655172413793105\n",
      "Epoch 30 Loss: 338.06107025015734 Accuracy: 0.3793103448275862\n",
      "Epoch 31 Loss: 337.8713384920854 Accuracy: 0.3448275862068966\n",
      "Epoch 31 Mean Loss: 338.9982828344559 Mean Acurracy: 0.40517241379310337\n",
      "Epoch 32 Loss: 337.68073949348036 Accuracy: 0.3448275862068966\n",
      "Epoch 33 Loss: 337.55048410240767 Accuracy: 0.39655172413793105\n",
      "Epoch 34 Loss: 337.6230698612478 Accuracy: 0.3103448275862069\n",
      "Epoch 35 Loss: 337.2839521131867 Accuracy: 0.4827586206896552\n",
      "Epoch 36 Loss: 337.19840269897776 Accuracy: 0.4482758620689655\n",
      "Epoch 37 Loss: 337.0284804447962 Accuracy: 0.4827586206896552\n",
      "Epoch 38 Loss: 336.8281927296721 Accuracy: 0.3620689655172414\n",
      "Epoch 39 Loss: 336.8259631682382 Accuracy: 0.3620689655172414\n",
      "Epoch 40 Loss: 336.78942192489507 Accuracy: 0.3620689655172414\n",
      "Epoch 41 Loss: 336.5336919292591 Accuracy: 0.3793103448275862\n",
      "Epoch 41 Mean Loss: 337.2680045028987 Mean Acurracy: 0.38965517241379316\n",
      "Epoch 42 Loss: 336.5354284239101 Accuracy: 0.3275862068965517\n",
      "Epoch 43 Loss: 336.40464530362976 Accuracy: 0.3275862068965517\n",
      "Epoch 44 Loss: 336.3604606360376 Accuracy: 0.3793103448275862\n",
      "Epoch 45 Loss: 336.1062067288462 Accuracy: 0.4482758620689655\n",
      "Epoch 46 Loss: 336.13385280422807 Accuracy: 0.3103448275862069\n",
      "Epoch 47 Loss: 335.99298438274053 Accuracy: 0.46551724137931033\n"
     ]
    },
    {
     "ename": "KeyboardInterrupt",
     "evalue": "",
     "output_type": "error",
     "traceback": [
      "\u001B[1;31m---------------------------------------------------------------------------\u001B[0m",
      "\u001B[1;31mKeyboardInterrupt\u001B[0m                         Traceback (most recent call last)",
      "Cell \u001B[1;32mIn[33], line 3\u001B[0m\n\u001B[0;32m      1\u001B[0m optimizer\u001B[38;5;241m=\u001B[39mtorch\u001B[38;5;241m.\u001B[39moptim\u001B[38;5;241m.\u001B[39mAdam(model\u001B[38;5;241m.\u001B[39mparameters(),lr\u001B[38;5;241m=\u001B[39mlearning_rate)\n\u001B[0;32m      2\u001B[0m criterion\u001B[38;5;241m=\u001B[39mnn\u001B[38;5;241m.\u001B[39mCrossEntropyLoss()\n\u001B[1;32m----> 3\u001B[0m loss_list, acc_list\u001B[38;5;241m=\u001B[39m\u001B[43mtrain_model\u001B[49m\u001B[43m(\u001B[49m\u001B[43mmodel\u001B[49m\u001B[43m,\u001B[49m\u001B[43mx_train\u001B[49m\u001B[43m,\u001B[49m\u001B[43my_train\u001B[49m\u001B[43m,\u001B[49m\u001B[43moptimizer\u001B[49m\u001B[43m,\u001B[49m\u001B[43mcriterion\u001B[49m\u001B[43m,\u001B[49m\u001B[43mepoches\u001B[49m\u001B[38;5;241;43m=\u001B[39;49m\u001B[43mepoches\u001B[49m\u001B[43m)\u001B[49m\n",
      "Cell \u001B[1;32mIn[31], line 20\u001B[0m, in \u001B[0;36mtrain_model\u001B[1;34m(model, x, y, optimizer, criterion, batch_size, epoches, mask)\u001B[0m\n\u001B[0;32m     17\u001B[0m label\u001B[38;5;241m=\u001B[39mlabel\u001B[38;5;241m.\u001B[39msqueeze(\u001B[38;5;241m1\u001B[39m)\n\u001B[0;32m     18\u001B[0m loss \u001B[38;5;241m=\u001B[39m criterion(output,label)\n\u001B[1;32m---> 20\u001B[0m \u001B[43mloss\u001B[49m\u001B[38;5;241;43m.\u001B[39;49m\u001B[43mbackward\u001B[49m\u001B[43m(\u001B[49m\u001B[43m)\u001B[49m\n\u001B[0;32m     21\u001B[0m optimizer\u001B[38;5;241m.\u001B[39mstep()\n\u001B[0;32m     22\u001B[0m loss_epoch\u001B[38;5;241m+\u001B[39m\u001B[38;5;241m=\u001B[39mloss\u001B[38;5;241m.\u001B[39mitem()\n",
      "File \u001B[1;32mD:\\anaconda\\envs\\ame\\Lib\\site-packages\\torch\\_tensor.py:521\u001B[0m, in \u001B[0;36mTensor.backward\u001B[1;34m(self, gradient, retain_graph, create_graph, inputs)\u001B[0m\n\u001B[0;32m    511\u001B[0m \u001B[38;5;28;01mif\u001B[39;00m has_torch_function_unary(\u001B[38;5;28mself\u001B[39m):\n\u001B[0;32m    512\u001B[0m     \u001B[38;5;28;01mreturn\u001B[39;00m handle_torch_function(\n\u001B[0;32m    513\u001B[0m         Tensor\u001B[38;5;241m.\u001B[39mbackward,\n\u001B[0;32m    514\u001B[0m         (\u001B[38;5;28mself\u001B[39m,),\n\u001B[1;32m   (...)\u001B[0m\n\u001B[0;32m    519\u001B[0m         inputs\u001B[38;5;241m=\u001B[39minputs,\n\u001B[0;32m    520\u001B[0m     )\n\u001B[1;32m--> 521\u001B[0m \u001B[43mtorch\u001B[49m\u001B[38;5;241;43m.\u001B[39;49m\u001B[43mautograd\u001B[49m\u001B[38;5;241;43m.\u001B[39;49m\u001B[43mbackward\u001B[49m\u001B[43m(\u001B[49m\n\u001B[0;32m    522\u001B[0m \u001B[43m    \u001B[49m\u001B[38;5;28;43mself\u001B[39;49m\u001B[43m,\u001B[49m\u001B[43m \u001B[49m\u001B[43mgradient\u001B[49m\u001B[43m,\u001B[49m\u001B[43m \u001B[49m\u001B[43mretain_graph\u001B[49m\u001B[43m,\u001B[49m\u001B[43m \u001B[49m\u001B[43mcreate_graph\u001B[49m\u001B[43m,\u001B[49m\u001B[43m \u001B[49m\u001B[43minputs\u001B[49m\u001B[38;5;241;43m=\u001B[39;49m\u001B[43minputs\u001B[49m\n\u001B[0;32m    523\u001B[0m \u001B[43m\u001B[49m\u001B[43m)\u001B[49m\n",
      "File \u001B[1;32mD:\\anaconda\\envs\\ame\\Lib\\site-packages\\torch\\autograd\\__init__.py:289\u001B[0m, in \u001B[0;36mbackward\u001B[1;34m(tensors, grad_tensors, retain_graph, create_graph, grad_variables, inputs)\u001B[0m\n\u001B[0;32m    284\u001B[0m     retain_graph \u001B[38;5;241m=\u001B[39m create_graph\n\u001B[0;32m    286\u001B[0m \u001B[38;5;66;03m# The reason we repeat the same comment below is that\u001B[39;00m\n\u001B[0;32m    287\u001B[0m \u001B[38;5;66;03m# some Python versions print out the first line of a multi-line function\u001B[39;00m\n\u001B[0;32m    288\u001B[0m \u001B[38;5;66;03m# calls in the traceback and some print out the last line\u001B[39;00m\n\u001B[1;32m--> 289\u001B[0m \u001B[43m_engine_run_backward\u001B[49m\u001B[43m(\u001B[49m\n\u001B[0;32m    290\u001B[0m \u001B[43m    \u001B[49m\u001B[43mtensors\u001B[49m\u001B[43m,\u001B[49m\n\u001B[0;32m    291\u001B[0m \u001B[43m    \u001B[49m\u001B[43mgrad_tensors_\u001B[49m\u001B[43m,\u001B[49m\n\u001B[0;32m    292\u001B[0m \u001B[43m    \u001B[49m\u001B[43mretain_graph\u001B[49m\u001B[43m,\u001B[49m\n\u001B[0;32m    293\u001B[0m \u001B[43m    \u001B[49m\u001B[43mcreate_graph\u001B[49m\u001B[43m,\u001B[49m\n\u001B[0;32m    294\u001B[0m \u001B[43m    \u001B[49m\u001B[43minputs\u001B[49m\u001B[43m,\u001B[49m\n\u001B[0;32m    295\u001B[0m \u001B[43m    \u001B[49m\u001B[43mallow_unreachable\u001B[49m\u001B[38;5;241;43m=\u001B[39;49m\u001B[38;5;28;43;01mTrue\u001B[39;49;00m\u001B[43m,\u001B[49m\n\u001B[0;32m    296\u001B[0m \u001B[43m    \u001B[49m\u001B[43maccumulate_grad\u001B[49m\u001B[38;5;241;43m=\u001B[39;49m\u001B[38;5;28;43;01mTrue\u001B[39;49;00m\u001B[43m,\u001B[49m\n\u001B[0;32m    297\u001B[0m \u001B[43m\u001B[49m\u001B[43m)\u001B[49m\n",
      "File \u001B[1;32mD:\\anaconda\\envs\\ame\\Lib\\site-packages\\torch\\autograd\\graph.py:769\u001B[0m, in \u001B[0;36m_engine_run_backward\u001B[1;34m(t_outputs, *args, **kwargs)\u001B[0m\n\u001B[0;32m    767\u001B[0m     unregister_hooks \u001B[38;5;241m=\u001B[39m _register_logging_hooks_on_whole_graph(t_outputs)\n\u001B[0;32m    768\u001B[0m \u001B[38;5;28;01mtry\u001B[39;00m:\n\u001B[1;32m--> 769\u001B[0m     \u001B[38;5;28;01mreturn\u001B[39;00m \u001B[43mVariable\u001B[49m\u001B[38;5;241;43m.\u001B[39;49m\u001B[43m_execution_engine\u001B[49m\u001B[38;5;241;43m.\u001B[39;49m\u001B[43mrun_backward\u001B[49m\u001B[43m(\u001B[49m\u001B[43m  \u001B[49m\u001B[38;5;66;43;03m# Calls into the C++ engine to run the backward pass\u001B[39;49;00m\n\u001B[0;32m    770\u001B[0m \u001B[43m        \u001B[49m\u001B[43mt_outputs\u001B[49m\u001B[43m,\u001B[49m\u001B[43m \u001B[49m\u001B[38;5;241;43m*\u001B[39;49m\u001B[43margs\u001B[49m\u001B[43m,\u001B[49m\u001B[43m \u001B[49m\u001B[38;5;241;43m*\u001B[39;49m\u001B[38;5;241;43m*\u001B[39;49m\u001B[43mkwargs\u001B[49m\n\u001B[0;32m    771\u001B[0m \u001B[43m    \u001B[49m\u001B[43m)\u001B[49m  \u001B[38;5;66;03m# Calls into the C++ engine to run the backward pass\u001B[39;00m\n\u001B[0;32m    772\u001B[0m \u001B[38;5;28;01mfinally\u001B[39;00m:\n\u001B[0;32m    773\u001B[0m     \u001B[38;5;28;01mif\u001B[39;00m attach_logging_hooks:\n",
      "\u001B[1;31mKeyboardInterrupt\u001B[0m: "
     ]
    }
   ],
   "execution_count": 33
  },
  {
   "cell_type": "code",
   "metadata": {
    "ExecuteTime": {
     "end_time": "2025-01-12T15:05:05.567160Z",
     "start_time": "2025-01-12T15:05:02.575442Z"
    }
   },
   "source": [
    "# 模型评估\n",
    "eval_model(model,x_test,y_test)"
   ],
   "outputs": [
    {
     "name": "stdout",
     "output_type": "stream",
     "text": [
      "Test Dataset Performance:\n",
      "Accuracy : 0.2840\n",
      "Precision : 0.1007\n",
      "F1 Score : 0.1487\n"
     ]
    },
    {
     "data": {
      "text/plain": [
       "(0.284, 0.10067164179104478, 0.14865013774104682)"
      ]
     },
     "execution_count": 34,
     "metadata": {},
     "output_type": "execute_result"
    }
   ],
   "execution_count": 34
  },
  {
   "cell_type": "code",
   "execution_count": null,
   "metadata": {},
   "outputs": [],
   "source": [
    "# 模型及结果保存\n",
    "preds = torch.round(torch.sigmoid(model(x_test)))\n",
    "preds = preds.cpu().detach().numpy()\n",
    "preds = np.squeeze(preds)\n",
    "\n",
    "os.makedirs('./model',exist_ok=True)\n",
    "os.makedirs('./predoictions',exist_ok=True)\n",
    "np.save('./predoictions/Transformer_Predictions.npy',preds)\n",
    "torch.save(model.state_dict(),'./model/Transformer_Model.pth')"
   ]
  }
 ],
 "metadata": {
  "kernelspec": {
   "display_name": "test",
   "language": "python",
   "name": "python3"
  },
  "language_info": {
   "codemirror_mode": {
    "name": "ipython",
    "version": 3
   },
   "file_extension": ".py",
   "mimetype": "text/x-python",
   "name": "python",
   "nbconvert_exporter": "python",
   "pygments_lexer": "ipython3",
   "version": "3.11.4"
  }
 },
 "nbformat": 4,
 "nbformat_minor": 2
}
